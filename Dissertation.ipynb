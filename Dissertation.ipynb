{
  "cells": [
    {
      "cell_type": "markdown",
      "metadata": {
        "id": "845e8984"
      },
      "source": [
        "Diabetes Prediction"
      ],
      "id": "845e8984"
    },
    {
      "cell_type": "markdown",
      "metadata": {
        "id": "205538e7"
      },
      "source": [
        "Libraries"
      ],
      "id": "205538e7"
    },
    {
      "cell_type": "code",
      "execution_count": null,
      "metadata": {
        "id": "d8a5cf4c"
      },
      "outputs": [],
      "source": [
        "import pandas as pd\n",
        "import numpy as np\n",
        "import matplotlib.pyplot as plt\n",
        "%matplotlib inline\n",
        "import seaborn as sns\n",
        "from sklearn.model_selection import GridSearchCV, cross_val_score\n",
        "from sklearn.preprocessing import StandardScaler\n",
        "from sklearn.ensemble import RandomForestClassifier, VotingClassifier\n",
        "from sklearn.tree import DecisionTreeClassifier\n",
        "from sklearn.svm import SVC\n",
        "from sklearn.neighbors import KNeighborsClassifier\n",
        "from sklearn.metrics import classification_report,confusion_matrix,accuracy_score\n",
        "from sklearn.metrics import recall_score, precision_score, f1_score, confusion_matrix, roc_auc_score\n",
        "from sklearn.utils import resample\n",
        "from sklearn.model_selection import train_test_split\n",
        "from sklearn.model_selection import GridSearchCV,KFold\n",
        "import joblib\n",
        "import plotly.express as px\n",
        "from plotly.subplots import make_subplots\n",
        "import plotly.graph_objects as go\n",
        "import warnings\n",
        "warnings.filterwarnings('ignore')"
      ],
      "id": "d8a5cf4c"
    },
    {
      "cell_type": "markdown",
      "metadata": {
        "id": "721b5895"
      },
      "source": [
        "EDA"
      ],
      "id": "721b5895"
    },
    {
      "cell_type": "markdown",
      "metadata": {
        "id": "07f367a5"
      },
      "source": [
        "Read dataset"
      ],
      "id": "07f367a5"
    },
    {
      "cell_type": "code",
      "execution_count": null,
      "metadata": {
        "id": "7c4db2b9"
      },
      "outputs": [],
      "source": [
        "df = pd.read_csv('diabetes.csv')"
      ],
      "id": "7c4db2b9"
    },
    {
      "cell_type": "code",
      "execution_count": null,
      "metadata": {
        "id": "e0d9f0a5"
      },
      "outputs": [],
      "source": [
        "df.head(5)"
      ],
      "id": "e0d9f0a5"
    },
    {
      "cell_type": "code",
      "execution_count": null,
      "metadata": {
        "id": "babcd0e3"
      },
      "outputs": [],
      "source": [
        "rows , col =  df.shape\n",
        "print(f\"Number of Rows : {rows} \\nNumber of Columns : {col}\")"
      ],
      "id": "babcd0e3"
    },
    {
      "cell_type": "code",
      "execution_count": null,
      "metadata": {
        "id": "2202a726"
      },
      "outputs": [],
      "source": [
        "df.info()"
      ],
      "id": "2202a726"
    },
    {
      "cell_type": "code",
      "execution_count": null,
      "metadata": {
        "id": "30724322",
        "scrolled": true,
        "colab": {
          "base_uri": "https://localhost:8080/"
        },
        "outputId": "50b35754-e2d1-4be8-d72a-6f576f6a61fc"
      },
      "outputs": [
        {
          "output_type": "execute_result",
          "data": {
            "text/plain": [
              "Pregnancies                 0\n",
              "Glucose                     0\n",
              "BloodPressure               0\n",
              "SkinThickness               0\n",
              "Insulin                     0\n",
              "BMI                         0\n",
              "DiabetesPedigreeFunction    0\n",
              "Age                         0\n",
              "Outcome                     0\n",
              "dtype: int64"
            ]
          },
          "metadata": {},
          "execution_count": 7
        }
      ],
      "source": [
        "df.isnull().sum()"
      ],
      "id": "30724322"
    },
    {
      "cell_type": "code",
      "execution_count": null,
      "metadata": {
        "id": "f2ed092e",
        "colab": {
          "base_uri": "https://localhost:8080/",
          "height": 300
        },
        "outputId": "ee92d762-69bb-49d9-8c0d-4700e5136901"
      },
      "outputs": [
        {
          "output_type": "execute_result",
          "data": {
            "text/plain": [
              "       Pregnancies     Glucose  BloodPressure  SkinThickness     Insulin  \\\n",
              "count   768.000000  768.000000     768.000000     768.000000  768.000000   \n",
              "mean      3.845052  120.894531      69.105469      20.536458   79.799479   \n",
              "std       3.369578   31.972618      19.355807      15.952218  115.244002   \n",
              "min       0.000000    0.000000       0.000000       0.000000    0.000000   \n",
              "25%       1.000000   99.000000      62.000000       0.000000    0.000000   \n",
              "50%       3.000000  117.000000      72.000000      23.000000   30.500000   \n",
              "75%       6.000000  140.250000      80.000000      32.000000  127.250000   \n",
              "max      17.000000  199.000000     122.000000      99.000000  846.000000   \n",
              "\n",
              "              BMI  DiabetesPedigreeFunction         Age     Outcome  \n",
              "count  768.000000                768.000000  768.000000  768.000000  \n",
              "mean    31.992578                  0.471876   33.240885    0.348958  \n",
              "std      7.884160                  0.331329   11.760232    0.476951  \n",
              "min      0.000000                  0.078000   21.000000    0.000000  \n",
              "25%     27.300000                  0.243750   24.000000    0.000000  \n",
              "50%     32.000000                  0.372500   29.000000    0.000000  \n",
              "75%     36.600000                  0.626250   41.000000    1.000000  \n",
              "max     67.100000                  2.420000   81.000000    1.000000  "
            ],
            "text/html": [
              "\n",
              "  <div id=\"df-99f500e5-0c44-4e2c-aa74-58097fb53fa1\" class=\"colab-df-container\">\n",
              "    <div>\n",
              "<style scoped>\n",
              "    .dataframe tbody tr th:only-of-type {\n",
              "        vertical-align: middle;\n",
              "    }\n",
              "\n",
              "    .dataframe tbody tr th {\n",
              "        vertical-align: top;\n",
              "    }\n",
              "\n",
              "    .dataframe thead th {\n",
              "        text-align: right;\n",
              "    }\n",
              "</style>\n",
              "<table border=\"1\" class=\"dataframe\">\n",
              "  <thead>\n",
              "    <tr style=\"text-align: right;\">\n",
              "      <th></th>\n",
              "      <th>Pregnancies</th>\n",
              "      <th>Glucose</th>\n",
              "      <th>BloodPressure</th>\n",
              "      <th>SkinThickness</th>\n",
              "      <th>Insulin</th>\n",
              "      <th>BMI</th>\n",
              "      <th>DiabetesPedigreeFunction</th>\n",
              "      <th>Age</th>\n",
              "      <th>Outcome</th>\n",
              "    </tr>\n",
              "  </thead>\n",
              "  <tbody>\n",
              "    <tr>\n",
              "      <th>count</th>\n",
              "      <td>768.000000</td>\n",
              "      <td>768.000000</td>\n",
              "      <td>768.000000</td>\n",
              "      <td>768.000000</td>\n",
              "      <td>768.000000</td>\n",
              "      <td>768.000000</td>\n",
              "      <td>768.000000</td>\n",
              "      <td>768.000000</td>\n",
              "      <td>768.000000</td>\n",
              "    </tr>\n",
              "    <tr>\n",
              "      <th>mean</th>\n",
              "      <td>3.845052</td>\n",
              "      <td>120.894531</td>\n",
              "      <td>69.105469</td>\n",
              "      <td>20.536458</td>\n",
              "      <td>79.799479</td>\n",
              "      <td>31.992578</td>\n",
              "      <td>0.471876</td>\n",
              "      <td>33.240885</td>\n",
              "      <td>0.348958</td>\n",
              "    </tr>\n",
              "    <tr>\n",
              "      <th>std</th>\n",
              "      <td>3.369578</td>\n",
              "      <td>31.972618</td>\n",
              "      <td>19.355807</td>\n",
              "      <td>15.952218</td>\n",
              "      <td>115.244002</td>\n",
              "      <td>7.884160</td>\n",
              "      <td>0.331329</td>\n",
              "      <td>11.760232</td>\n",
              "      <td>0.476951</td>\n",
              "    </tr>\n",
              "    <tr>\n",
              "      <th>min</th>\n",
              "      <td>0.000000</td>\n",
              "      <td>0.000000</td>\n",
              "      <td>0.000000</td>\n",
              "      <td>0.000000</td>\n",
              "      <td>0.000000</td>\n",
              "      <td>0.000000</td>\n",
              "      <td>0.078000</td>\n",
              "      <td>21.000000</td>\n",
              "      <td>0.000000</td>\n",
              "    </tr>\n",
              "    <tr>\n",
              "      <th>25%</th>\n",
              "      <td>1.000000</td>\n",
              "      <td>99.000000</td>\n",
              "      <td>62.000000</td>\n",
              "      <td>0.000000</td>\n",
              "      <td>0.000000</td>\n",
              "      <td>27.300000</td>\n",
              "      <td>0.243750</td>\n",
              "      <td>24.000000</td>\n",
              "      <td>0.000000</td>\n",
              "    </tr>\n",
              "    <tr>\n",
              "      <th>50%</th>\n",
              "      <td>3.000000</td>\n",
              "      <td>117.000000</td>\n",
              "      <td>72.000000</td>\n",
              "      <td>23.000000</td>\n",
              "      <td>30.500000</td>\n",
              "      <td>32.000000</td>\n",
              "      <td>0.372500</td>\n",
              "      <td>29.000000</td>\n",
              "      <td>0.000000</td>\n",
              "    </tr>\n",
              "    <tr>\n",
              "      <th>75%</th>\n",
              "      <td>6.000000</td>\n",
              "      <td>140.250000</td>\n",
              "      <td>80.000000</td>\n",
              "      <td>32.000000</td>\n",
              "      <td>127.250000</td>\n",
              "      <td>36.600000</td>\n",
              "      <td>0.626250</td>\n",
              "      <td>41.000000</td>\n",
              "      <td>1.000000</td>\n",
              "    </tr>\n",
              "    <tr>\n",
              "      <th>max</th>\n",
              "      <td>17.000000</td>\n",
              "      <td>199.000000</td>\n",
              "      <td>122.000000</td>\n",
              "      <td>99.000000</td>\n",
              "      <td>846.000000</td>\n",
              "      <td>67.100000</td>\n",
              "      <td>2.420000</td>\n",
              "      <td>81.000000</td>\n",
              "      <td>1.000000</td>\n",
              "    </tr>\n",
              "  </tbody>\n",
              "</table>\n",
              "</div>\n",
              "    <div class=\"colab-df-buttons\">\n",
              "\n",
              "  <div class=\"colab-df-container\">\n",
              "    <button class=\"colab-df-convert\" onclick=\"convertToInteractive('df-99f500e5-0c44-4e2c-aa74-58097fb53fa1')\"\n",
              "            title=\"Convert this dataframe to an interactive table.\"\n",
              "            style=\"display:none;\">\n",
              "\n",
              "  <svg xmlns=\"http://www.w3.org/2000/svg\" height=\"24px\" viewBox=\"0 -960 960 960\">\n",
              "    <path d=\"M120-120v-720h720v720H120Zm60-500h600v-160H180v160Zm220 220h160v-160H400v160Zm0 220h160v-160H400v160ZM180-400h160v-160H180v160Zm440 0h160v-160H620v160ZM180-180h160v-160H180v160Zm440 0h160v-160H620v160Z\"/>\n",
              "  </svg>\n",
              "    </button>\n",
              "\n",
              "  <style>\n",
              "    .colab-df-container {\n",
              "      display:flex;\n",
              "      gap: 12px;\n",
              "    }\n",
              "\n",
              "    .colab-df-convert {\n",
              "      background-color: #E8F0FE;\n",
              "      border: none;\n",
              "      border-radius: 50%;\n",
              "      cursor: pointer;\n",
              "      display: none;\n",
              "      fill: #1967D2;\n",
              "      height: 32px;\n",
              "      padding: 0 0 0 0;\n",
              "      width: 32px;\n",
              "    }\n",
              "\n",
              "    .colab-df-convert:hover {\n",
              "      background-color: #E2EBFA;\n",
              "      box-shadow: 0px 1px 2px rgba(60, 64, 67, 0.3), 0px 1px 3px 1px rgba(60, 64, 67, 0.15);\n",
              "      fill: #174EA6;\n",
              "    }\n",
              "\n",
              "    .colab-df-buttons div {\n",
              "      margin-bottom: 4px;\n",
              "    }\n",
              "\n",
              "    [theme=dark] .colab-df-convert {\n",
              "      background-color: #3B4455;\n",
              "      fill: #D2E3FC;\n",
              "    }\n",
              "\n",
              "    [theme=dark] .colab-df-convert:hover {\n",
              "      background-color: #434B5C;\n",
              "      box-shadow: 0px 1px 3px 1px rgba(0, 0, 0, 0.15);\n",
              "      filter: drop-shadow(0px 1px 2px rgba(0, 0, 0, 0.3));\n",
              "      fill: #FFFFFF;\n",
              "    }\n",
              "  </style>\n",
              "\n",
              "    <script>\n",
              "      const buttonEl =\n",
              "        document.querySelector('#df-99f500e5-0c44-4e2c-aa74-58097fb53fa1 button.colab-df-convert');\n",
              "      buttonEl.style.display =\n",
              "        google.colab.kernel.accessAllowed ? 'block' : 'none';\n",
              "\n",
              "      async function convertToInteractive(key) {\n",
              "        const element = document.querySelector('#df-99f500e5-0c44-4e2c-aa74-58097fb53fa1');\n",
              "        const dataTable =\n",
              "          await google.colab.kernel.invokeFunction('convertToInteractive',\n",
              "                                                    [key], {});\n",
              "        if (!dataTable) return;\n",
              "\n",
              "        const docLinkHtml = 'Like what you see? Visit the ' +\n",
              "          '<a target=\"_blank\" href=https://colab.research.google.com/notebooks/data_table.ipynb>data table notebook</a>'\n",
              "          + ' to learn more about interactive tables.';\n",
              "        element.innerHTML = '';\n",
              "        dataTable['output_type'] = 'display_data';\n",
              "        await google.colab.output.renderOutput(dataTable, element);\n",
              "        const docLink = document.createElement('div');\n",
              "        docLink.innerHTML = docLinkHtml;\n",
              "        element.appendChild(docLink);\n",
              "      }\n",
              "    </script>\n",
              "  </div>\n",
              "\n",
              "\n",
              "<div id=\"df-11d1bca6-2fbf-45f0-8971-937c95737b0f\">\n",
              "  <button class=\"colab-df-quickchart\" onclick=\"quickchart('df-11d1bca6-2fbf-45f0-8971-937c95737b0f')\"\n",
              "            title=\"Suggest charts\"\n",
              "            style=\"display:none;\">\n",
              "\n",
              "<svg xmlns=\"http://www.w3.org/2000/svg\" height=\"24px\"viewBox=\"0 0 24 24\"\n",
              "     width=\"24px\">\n",
              "    <g>\n",
              "        <path d=\"M19 3H5c-1.1 0-2 .9-2 2v14c0 1.1.9 2 2 2h14c1.1 0 2-.9 2-2V5c0-1.1-.9-2-2-2zM9 17H7v-7h2v7zm4 0h-2V7h2v10zm4 0h-2v-4h2v4z\"/>\n",
              "    </g>\n",
              "</svg>\n",
              "  </button>\n",
              "\n",
              "<style>\n",
              "  .colab-df-quickchart {\n",
              "      --bg-color: #E8F0FE;\n",
              "      --fill-color: #1967D2;\n",
              "      --hover-bg-color: #E2EBFA;\n",
              "      --hover-fill-color: #174EA6;\n",
              "      --disabled-fill-color: #AAA;\n",
              "      --disabled-bg-color: #DDD;\n",
              "  }\n",
              "\n",
              "  [theme=dark] .colab-df-quickchart {\n",
              "      --bg-color: #3B4455;\n",
              "      --fill-color: #D2E3FC;\n",
              "      --hover-bg-color: #434B5C;\n",
              "      --hover-fill-color: #FFFFFF;\n",
              "      --disabled-bg-color: #3B4455;\n",
              "      --disabled-fill-color: #666;\n",
              "  }\n",
              "\n",
              "  .colab-df-quickchart {\n",
              "    background-color: var(--bg-color);\n",
              "    border: none;\n",
              "    border-radius: 50%;\n",
              "    cursor: pointer;\n",
              "    display: none;\n",
              "    fill: var(--fill-color);\n",
              "    height: 32px;\n",
              "    padding: 0;\n",
              "    width: 32px;\n",
              "  }\n",
              "\n",
              "  .colab-df-quickchart:hover {\n",
              "    background-color: var(--hover-bg-color);\n",
              "    box-shadow: 0 1px 2px rgba(60, 64, 67, 0.3), 0 1px 3px 1px rgba(60, 64, 67, 0.15);\n",
              "    fill: var(--button-hover-fill-color);\n",
              "  }\n",
              "\n",
              "  .colab-df-quickchart-complete:disabled,\n",
              "  .colab-df-quickchart-complete:disabled:hover {\n",
              "    background-color: var(--disabled-bg-color);\n",
              "    fill: var(--disabled-fill-color);\n",
              "    box-shadow: none;\n",
              "  }\n",
              "\n",
              "  .colab-df-spinner {\n",
              "    border: 2px solid var(--fill-color);\n",
              "    border-color: transparent;\n",
              "    border-bottom-color: var(--fill-color);\n",
              "    animation:\n",
              "      spin 1s steps(1) infinite;\n",
              "  }\n",
              "\n",
              "  @keyframes spin {\n",
              "    0% {\n",
              "      border-color: transparent;\n",
              "      border-bottom-color: var(--fill-color);\n",
              "      border-left-color: var(--fill-color);\n",
              "    }\n",
              "    20% {\n",
              "      border-color: transparent;\n",
              "      border-left-color: var(--fill-color);\n",
              "      border-top-color: var(--fill-color);\n",
              "    }\n",
              "    30% {\n",
              "      border-color: transparent;\n",
              "      border-left-color: var(--fill-color);\n",
              "      border-top-color: var(--fill-color);\n",
              "      border-right-color: var(--fill-color);\n",
              "    }\n",
              "    40% {\n",
              "      border-color: transparent;\n",
              "      border-right-color: var(--fill-color);\n",
              "      border-top-color: var(--fill-color);\n",
              "    }\n",
              "    60% {\n",
              "      border-color: transparent;\n",
              "      border-right-color: var(--fill-color);\n",
              "    }\n",
              "    80% {\n",
              "      border-color: transparent;\n",
              "      border-right-color: var(--fill-color);\n",
              "      border-bottom-color: var(--fill-color);\n",
              "    }\n",
              "    90% {\n",
              "      border-color: transparent;\n",
              "      border-bottom-color: var(--fill-color);\n",
              "    }\n",
              "  }\n",
              "</style>\n",
              "\n",
              "  <script>\n",
              "    async function quickchart(key) {\n",
              "      const quickchartButtonEl =\n",
              "        document.querySelector('#' + key + ' button');\n",
              "      quickchartButtonEl.disabled = true;  // To prevent multiple clicks.\n",
              "      quickchartButtonEl.classList.add('colab-df-spinner');\n",
              "      try {\n",
              "        const charts = await google.colab.kernel.invokeFunction(\n",
              "            'suggestCharts', [key], {});\n",
              "      } catch (error) {\n",
              "        console.error('Error during call to suggestCharts:', error);\n",
              "      }\n",
              "      quickchartButtonEl.classList.remove('colab-df-spinner');\n",
              "      quickchartButtonEl.classList.add('colab-df-quickchart-complete');\n",
              "    }\n",
              "    (() => {\n",
              "      let quickchartButtonEl =\n",
              "        document.querySelector('#df-11d1bca6-2fbf-45f0-8971-937c95737b0f button');\n",
              "      quickchartButtonEl.style.display =\n",
              "        google.colab.kernel.accessAllowed ? 'block' : 'none';\n",
              "    })();\n",
              "  </script>\n",
              "</div>\n",
              "\n",
              "    </div>\n",
              "  </div>\n"
            ],
            "application/vnd.google.colaboratory.intrinsic+json": {
              "type": "dataframe",
              "summary": "{\n  \"name\": \"df\",\n  \"rows\": 8,\n  \"fields\": [\n    {\n      \"column\": \"Pregnancies\",\n      \"properties\": {\n        \"dtype\": \"number\",\n        \"std\": 269.85223453356366,\n        \"min\": 0.0,\n        \"max\": 768.0,\n        \"num_unique_values\": 8,\n        \"samples\": [\n          3.8450520833333335,\n          3.0,\n          768.0\n        ],\n        \"semantic_type\": \"\",\n        \"description\": \"\"\n      }\n    },\n    {\n      \"column\": \"Glucose\",\n      \"properties\": {\n        \"dtype\": \"number\",\n        \"std\": 243.73802348295857,\n        \"min\": 0.0,\n        \"max\": 768.0,\n        \"num_unique_values\": 8,\n        \"samples\": [\n          120.89453125,\n          117.0,\n          768.0\n        ],\n        \"semantic_type\": \"\",\n        \"description\": \"\"\n      }\n    },\n    {\n      \"column\": \"BloodPressure\",\n      \"properties\": {\n        \"dtype\": \"number\",\n        \"std\": 252.8525053581062,\n        \"min\": 0.0,\n        \"max\": 768.0,\n        \"num_unique_values\": 8,\n        \"samples\": [\n          69.10546875,\n          72.0,\n          768.0\n        ],\n        \"semantic_type\": \"\",\n        \"description\": \"\"\n      }\n    },\n    {\n      \"column\": \"SkinThickness\",\n      \"properties\": {\n        \"dtype\": \"number\",\n        \"std\": 263.7684730531098,\n        \"min\": 0.0,\n        \"max\": 768.0,\n        \"num_unique_values\": 7,\n        \"samples\": [\n          768.0,\n          20.536458333333332,\n          32.0\n        ],\n        \"semantic_type\": \"\",\n        \"description\": \"\"\n      }\n    },\n    {\n      \"column\": \"Insulin\",\n      \"properties\": {\n        \"dtype\": \"number\",\n        \"std\": 350.26059167945886,\n        \"min\": 0.0,\n        \"max\": 846.0,\n        \"num_unique_values\": 7,\n        \"samples\": [\n          768.0,\n          79.79947916666667,\n          127.25\n        ],\n        \"semantic_type\": \"\",\n        \"description\": \"\"\n      }\n    },\n    {\n      \"column\": \"BMI\",\n      \"properties\": {\n        \"dtype\": \"number\",\n        \"std\": 262.05117817552093,\n        \"min\": 0.0,\n        \"max\": 768.0,\n        \"num_unique_values\": 8,\n        \"samples\": [\n          31.992578124999998,\n          32.0,\n          768.0\n        ],\n        \"semantic_type\": \"\",\n        \"description\": \"\"\n      }\n    },\n    {\n      \"column\": \"DiabetesPedigreeFunction\",\n      \"properties\": {\n        \"dtype\": \"number\",\n        \"std\": 271.3005221658502,\n        \"min\": 0.078,\n        \"max\": 768.0,\n        \"num_unique_values\": 8,\n        \"samples\": [\n          0.47187630208333325,\n          0.3725,\n          768.0\n        ],\n        \"semantic_type\": \"\",\n        \"description\": \"\"\n      }\n    },\n    {\n      \"column\": \"Age\",\n      \"properties\": {\n        \"dtype\": \"number\",\n        \"std\": 260.1941178528413,\n        \"min\": 11.760231540678685,\n        \"max\": 768.0,\n        \"num_unique_values\": 8,\n        \"samples\": [\n          33.240885416666664,\n          29.0,\n          768.0\n        ],\n        \"semantic_type\": \"\",\n        \"description\": \"\"\n      }\n    },\n    {\n      \"column\": \"Outcome\",\n      \"properties\": {\n        \"dtype\": \"number\",\n        \"std\": 271.3865920388932,\n        \"min\": 0.0,\n        \"max\": 768.0,\n        \"num_unique_values\": 5,\n        \"samples\": [\n          0.3489583333333333,\n          1.0,\n          0.47695137724279896\n        ],\n        \"semantic_type\": \"\",\n        \"description\": \"\"\n      }\n    }\n  ]\n}"
            }
          },
          "metadata": {},
          "execution_count": 8
        }
      ],
      "source": [
        "df.describe()"
      ],
      "id": "f2ed092e"
    },
    {
      "cell_type": "markdown",
      "metadata": {
        "id": "S0F9sMrsauHF"
      },
      "source": [
        "Checking 0 values in the variables"
      ],
      "id": "S0F9sMrsauHF"
    },
    {
      "cell_type": "code",
      "execution_count": null,
      "metadata": {
        "id": "2vidhWk3axdY"
      },
      "outputs": [],
      "source": [
        "zero_features = ['Glucose','BloodPressure','SkinThickness',\"Insulin\",'BMI','DiabetesPedigreeFunction']\n",
        "total_count = df['Glucose'].count()\n",
        "for feature in zero_features:\n",
        "    zero_count = df[df[feature]==0][feature].count()\n",
        "    print('The number of 0 cases in {0} is {1}, which is {2:.2f} %'.format(feature, zero_count, 100*zero_count/total_count))"
      ],
      "id": "2vidhWk3axdY"
    },
    {
      "cell_type": "markdown",
      "metadata": {
        "id": "oarY6Xbsa_Gx"
      },
      "source": [
        "As shown above, the ratio of the value of zero in the SkinThickness and Insulin features seems to be high. Let's change the corresponding values to the mean value of each feature.\n",
        "we will first replace the corresponding value with the mean value."
      ],
      "id": "oarY6Xbsa_Gx"
    },
    {
      "cell_type": "code",
      "execution_count": null,
      "metadata": {
        "id": "QSkqaIefRHHA"
      },
      "outputs": [],
      "source": [
        "from matplotlib import rcParams\n",
        "feature_names = [cname for cname in df.loc[:,:'Age'].columns]\n",
        "rcParams['figure.figsize'] = 20,30\n",
        "sns.set(font_scale = 2)\n",
        "sns.set_style(\"white\")\n",
        "sns.set_palette(\"bright\")\n",
        "plt.subplots_adjust(hspace=0.5)\n",
        "i = 1;\n",
        "for name in feature_names:\n",
        "    plt.subplot(5,2,i)\n",
        "    sns.histplot(data=df, x=name, hue=\"Outcome\",kde=True,palette=\"YlGnBu\")\n",
        "    i = i + 1"
      ],
      "id": "QSkqaIefRHHA"
    },
    {
      "cell_type": "markdown",
      "metadata": {
        "id": "56b4ce64"
      },
      "source": [
        "Distributions of attributes"
      ],
      "id": "56b4ce64"
    },
    {
      "cell_type": "code",
      "execution_count": null,
      "metadata": {
        "id": "82dc0bf1"
      },
      "outputs": [],
      "source": [
        "from matplotlib import rcParams\n",
        "feature_names = [cname for cname in df.loc[:,:'Age'].columns]\n",
        "rcParams['figure.figsize'] = 20,30\n",
        "sns.set(font_scale = 2)\n",
        "sns.set_style(\"white\")\n",
        "sns.set_palette(\"bright\")\n",
        "plt.subplots_adjust(hspace=0.5)\n",
        "i = 1;\n",
        "for name in feature_names:\n",
        "    plt.subplot(5,2,i)\n",
        "    sns.histplot(data=df, x=name, hue=\"Outcome\",kde=True,palette=\"YlGnBu\")\n",
        "    i = i + 1"
      ],
      "id": "82dc0bf1"
    },
    {
      "cell_type": "code",
      "execution_count": null,
      "metadata": {
        "id": "xJHaghRx-CJj"
      },
      "outputs": [],
      "source": [
        "diabetes_mean = df[zero_features].mean()\n",
        "df[zero_features]=df[zero_features].replace(0, diabetes_mean)\n",
        "zero_features = ['Glucose','BloodPressure','SkinThickness',\"Insulin\",'BMI','DiabetesPedigreeFunction']\n",
        "total_count = df['Glucose'].count()\n",
        "for feature in zero_features:\n",
        "    zero_count = df[df[feature]==0][feature].count()\n",
        "    print('The number of 0 cases in {0} is {1}, which is {2:.2f} %'.format(feature, zero_count, 100*zero_count/total_count))"
      ],
      "id": "xJHaghRx-CJj"
    },
    {
      "cell_type": "code",
      "execution_count": null,
      "metadata": {
        "id": "DzRLSKFd-F_f"
      },
      "outputs": [],
      "source": [
        "from matplotlib import rcParams\n",
        "feature_names = [cname for cname in df.loc[:,:'Age'].columns]\n",
        "rcParams['figure.figsize'] = 20,30\n",
        "sns.set(font_scale = 2)\n",
        "sns.set_style(\"white\")\n",
        "sns.set_palette(\"bright\")\n",
        "plt.subplots_adjust(hspace=0.5)\n",
        "i = 1;\n",
        "for name in feature_names:\n",
        "    plt.subplot(5,2,i)\n",
        "    sns.histplot(data=df, x=name, hue=\"Outcome\",kde=True,palette=\"YlGnBu\")\n",
        "    i = i + 1"
      ],
      "id": "DzRLSKFd-F_f"
    },
    {
      "cell_type": "markdown",
      "metadata": {
        "id": "lWQSdN2g-NEh"
      },
      "source": [
        "All the 0 values that held no meaning have been replaced."
      ],
      "id": "lWQSdN2g-NEh"
    },
    {
      "cell_type": "code",
      "execution_count": null,
      "metadata": {
        "id": "bfe36d87"
      },
      "outputs": [],
      "source": [
        "sns.pairplot(data = df, hue = 'Outcome' )\n",
        "plt.show()"
      ],
      "id": "bfe36d87"
    },
    {
      "cell_type": "markdown",
      "metadata": {
        "id": "ZuY6cLhMez8C"
      },
      "source": [
        "Pregnancy and Outcome"
      ],
      "id": "ZuY6cLhMez8C"
    },
    {
      "cell_type": "code",
      "execution_count": null,
      "metadata": {
        "id": "b5a99ae5"
      },
      "outputs": [],
      "source": [
        "plt.figure(figsize=(16,9))\n",
        "sns.heatmap(df.corr(), annot=True, annot_kws={\"size\": 10}, cbar_kws={\"shrink\": 0.5})\n",
        "plt.show()"
      ],
      "id": "b5a99ae5"
    },
    {
      "cell_type": "code",
      "execution_count": null,
      "metadata": {
        "colab": {
          "base_uri": "https://localhost:8080/"
        },
        "id": "475f8861",
        "outputId": "39695548-acc3-4f32-ecc9-37756e250bdb",
        "scrolled": true
      },
      "outputs": [
        {
          "output_type": "execute_result",
          "data": {
            "text/plain": [
              "Index(['Pregnancies', 'Glucose', 'BMI', 'Age'], dtype='object')"
            ]
          },
          "metadata": {},
          "execution_count": 16
        }
      ],
      "source": [
        "hig_corr = df.corr()\n",
        "hig_corr_features = hig_corr.index[abs(hig_corr[\"Outcome\"]) >= 0.2]\n",
        "hig_corr_features.drop('Outcome')"
      ],
      "id": "475f8861"
    },
    {
      "cell_type": "code",
      "execution_count": null,
      "metadata": {
        "id": "54ae9bdf"
      },
      "outputs": [],
      "source": [
        "df.var()"
      ],
      "id": "54ae9bdf"
    },
    {
      "cell_type": "markdown",
      "metadata": {
        "id": "be850994"
      },
      "source": [
        "Data Preprocessing"
      ],
      "id": "be850994"
    },
    {
      "cell_type": "code",
      "execution_count": null,
      "metadata": {
        "id": "5c8fb2b4"
      },
      "outputs": [],
      "source": [
        "numeric_columns = ['Insulin', 'DiabetesPedigreeFunction','BMI','Glucose','SkinThickness','BloodPressure']\n",
        "for column_name in numeric_columns:\n",
        "    Q1 = np.percentile(df[column_name], 25, interpolation='midpoint')\n",
        "    Q3 = np.percentile(df[column_name], 75, interpolation='midpoint')\n",
        "    IQR = Q3 - Q1\n",
        "    low_lim = Q1 - 1.5 * IQR\n",
        "    up_lim = Q3 + 1.5 * IQR\n",
        "    outliers = df[(df[column_name] < low_lim) | (df[column_name] > up_lim)][column_name]\n",
        "    df[column_name] = np.where(df[column_name] < low_lim, low_lim, df[column_name])\n",
        "    df[column_name] = np.where(df[column_name] > up_lim, up_lim, df[column_name])"
      ],
      "id": "5c8fb2b4"
    },
    {
      "cell_type": "markdown",
      "metadata": {
        "id": "0c29288c"
      },
      "source": [
        "Get input and target columns"
      ],
      "id": "0c29288c"
    },
    {
      "cell_type": "code",
      "execution_count": null,
      "metadata": {
        "colab": {
          "base_uri": "https://localhost:8080/"
        },
        "id": "5QjqfIYvvIsG",
        "outputId": "7bae6a4e-1e85-4d6a-8715-f6aa9a63f3b8"
      },
      "outputs": [
        {
          "output_type": "execute_result",
          "data": {
            "text/plain": [
              "0    500\n",
              "1    268\n",
              "Name: Outcome, dtype: int64"
            ]
          },
          "metadata": {},
          "execution_count": 20
        }
      ],
      "source": [
        "df['Outcome'].value_counts()"
      ],
      "id": "5QjqfIYvvIsG"
    },
    {
      "cell_type": "code",
      "execution_count": null,
      "metadata": {
        "colab": {
          "base_uri": "https://localhost:8080/",
          "height": 542
        },
        "id": "xtXvIQEetqp3",
        "outputId": "6286d721-c68d-4211-98bd-60805e8cecd4"
      },
      "outputs": [
        {
          "output_type": "display_data",
          "data": {
            "text/html": [
              "<html>\n",
              "<head><meta charset=\"utf-8\" /></head>\n",
              "<body>\n",
              "    <div>            <script src=\"https://cdnjs.cloudflare.com/ajax/libs/mathjax/2.7.5/MathJax.js?config=TeX-AMS-MML_SVG\"></script><script type=\"text/javascript\">if (window.MathJax && window.MathJax.Hub && window.MathJax.Hub.Config) {window.MathJax.Hub.Config({SVG: {font: \"STIX-Web\"}});}</script>                <script type=\"text/javascript\">window.PlotlyConfig = {MathJaxConfig: 'local'};</script>\n",
              "        <script charset=\"utf-8\" src=\"https://cdn.plot.ly/plotly-2.24.1.min.js\"></script>                <div id=\"1ecb28c1-17c5-448e-8b2f-8c473e7be41c\" class=\"plotly-graph-div\" style=\"height:525px; width:100%;\"></div>            <script type=\"text/javascript\">                                    window.PLOTLYENV=window.PLOTLYENV || {};                                    if (document.getElementById(\"1ecb28c1-17c5-448e-8b2f-8c473e7be41c\")) {                    Plotly.newPlot(                        \"1ecb28c1-17c5-448e-8b2f-8c473e7be41c\",                        [{\"hole\":0.3,\"labels\":[\"0\",\"1\"],\"values\":[0.6510416666666666,0.3489583333333333],\"type\":\"pie\",\"textfont\":{\"size\":20},\"marker\":{\"line\":{\"color\":\"#000000\",\"width\":2},\"colors\":[\"darkgreen\",\"lightgreen\"]},\"hoverinfo\":\"label+percent\",\"textinfo\":\"percent\"}],                        {\"template\":{\"data\":{\"histogram2dcontour\":[{\"type\":\"histogram2dcontour\",\"colorbar\":{\"outlinewidth\":0,\"ticks\":\"\"},\"colorscale\":[[0.0,\"#0d0887\"],[0.1111111111111111,\"#46039f\"],[0.2222222222222222,\"#7201a8\"],[0.3333333333333333,\"#9c179e\"],[0.4444444444444444,\"#bd3786\"],[0.5555555555555556,\"#d8576b\"],[0.6666666666666666,\"#ed7953\"],[0.7777777777777778,\"#fb9f3a\"],[0.8888888888888888,\"#fdca26\"],[1.0,\"#f0f921\"]]}],\"choropleth\":[{\"type\":\"choropleth\",\"colorbar\":{\"outlinewidth\":0,\"ticks\":\"\"}}],\"histogram2d\":[{\"type\":\"histogram2d\",\"colorbar\":{\"outlinewidth\":0,\"ticks\":\"\"},\"colorscale\":[[0.0,\"#0d0887\"],[0.1111111111111111,\"#46039f\"],[0.2222222222222222,\"#7201a8\"],[0.3333333333333333,\"#9c179e\"],[0.4444444444444444,\"#bd3786\"],[0.5555555555555556,\"#d8576b\"],[0.6666666666666666,\"#ed7953\"],[0.7777777777777778,\"#fb9f3a\"],[0.8888888888888888,\"#fdca26\"],[1.0,\"#f0f921\"]]}],\"heatmap\":[{\"type\":\"heatmap\",\"colorbar\":{\"outlinewidth\":0,\"ticks\":\"\"},\"colorscale\":[[0.0,\"#0d0887\"],[0.1111111111111111,\"#46039f\"],[0.2222222222222222,\"#7201a8\"],[0.3333333333333333,\"#9c179e\"],[0.4444444444444444,\"#bd3786\"],[0.5555555555555556,\"#d8576b\"],[0.6666666666666666,\"#ed7953\"],[0.7777777777777778,\"#fb9f3a\"],[0.8888888888888888,\"#fdca26\"],[1.0,\"#f0f921\"]]}],\"heatmapgl\":[{\"type\":\"heatmapgl\",\"colorbar\":{\"outlinewidth\":0,\"ticks\":\"\"},\"colorscale\":[[0.0,\"#0d0887\"],[0.1111111111111111,\"#46039f\"],[0.2222222222222222,\"#7201a8\"],[0.3333333333333333,\"#9c179e\"],[0.4444444444444444,\"#bd3786\"],[0.5555555555555556,\"#d8576b\"],[0.6666666666666666,\"#ed7953\"],[0.7777777777777778,\"#fb9f3a\"],[0.8888888888888888,\"#fdca26\"],[1.0,\"#f0f921\"]]}],\"contourcarpet\":[{\"type\":\"contourcarpet\",\"colorbar\":{\"outlinewidth\":0,\"ticks\":\"\"}}],\"contour\":[{\"type\":\"contour\",\"colorbar\":{\"outlinewidth\":0,\"ticks\":\"\"},\"colorscale\":[[0.0,\"#0d0887\"],[0.1111111111111111,\"#46039f\"],[0.2222222222222222,\"#7201a8\"],[0.3333333333333333,\"#9c179e\"],[0.4444444444444444,\"#bd3786\"],[0.5555555555555556,\"#d8576b\"],[0.6666666666666666,\"#ed7953\"],[0.7777777777777778,\"#fb9f3a\"],[0.8888888888888888,\"#fdca26\"],[1.0,\"#f0f921\"]]}],\"surface\":[{\"type\":\"surface\",\"colorbar\":{\"outlinewidth\":0,\"ticks\":\"\"},\"colorscale\":[[0.0,\"#0d0887\"],[0.1111111111111111,\"#46039f\"],[0.2222222222222222,\"#7201a8\"],[0.3333333333333333,\"#9c179e\"],[0.4444444444444444,\"#bd3786\"],[0.5555555555555556,\"#d8576b\"],[0.6666666666666666,\"#ed7953\"],[0.7777777777777778,\"#fb9f3a\"],[0.8888888888888888,\"#fdca26\"],[1.0,\"#f0f921\"]]}],\"mesh3d\":[{\"type\":\"mesh3d\",\"colorbar\":{\"outlinewidth\":0,\"ticks\":\"\"}}],\"scatter\":[{\"fillpattern\":{\"fillmode\":\"overlay\",\"size\":10,\"solidity\":0.2},\"type\":\"scatter\"}],\"parcoords\":[{\"type\":\"parcoords\",\"line\":{\"colorbar\":{\"outlinewidth\":0,\"ticks\":\"\"}}}],\"scatterpolargl\":[{\"type\":\"scatterpolargl\",\"marker\":{\"colorbar\":{\"outlinewidth\":0,\"ticks\":\"\"}}}],\"bar\":[{\"error_x\":{\"color\":\"#2a3f5f\"},\"error_y\":{\"color\":\"#2a3f5f\"},\"marker\":{\"line\":{\"color\":\"#E5ECF6\",\"width\":0.5},\"pattern\":{\"fillmode\":\"overlay\",\"size\":10,\"solidity\":0.2}},\"type\":\"bar\"}],\"scattergeo\":[{\"type\":\"scattergeo\",\"marker\":{\"colorbar\":{\"outlinewidth\":0,\"ticks\":\"\"}}}],\"scatterpolar\":[{\"type\":\"scatterpolar\",\"marker\":{\"colorbar\":{\"outlinewidth\":0,\"ticks\":\"\"}}}],\"histogram\":[{\"marker\":{\"pattern\":{\"fillmode\":\"overlay\",\"size\":10,\"solidity\":0.2}},\"type\":\"histogram\"}],\"scattergl\":[{\"type\":\"scattergl\",\"marker\":{\"colorbar\":{\"outlinewidth\":0,\"ticks\":\"\"}}}],\"scatter3d\":[{\"type\":\"scatter3d\",\"line\":{\"colorbar\":{\"outlinewidth\":0,\"ticks\":\"\"}},\"marker\":{\"colorbar\":{\"outlinewidth\":0,\"ticks\":\"\"}}}],\"scattermapbox\":[{\"type\":\"scattermapbox\",\"marker\":{\"colorbar\":{\"outlinewidth\":0,\"ticks\":\"\"}}}],\"scatterternary\":[{\"type\":\"scatterternary\",\"marker\":{\"colorbar\":{\"outlinewidth\":0,\"ticks\":\"\"}}}],\"scattercarpet\":[{\"type\":\"scattercarpet\",\"marker\":{\"colorbar\":{\"outlinewidth\":0,\"ticks\":\"\"}}}],\"carpet\":[{\"aaxis\":{\"endlinecolor\":\"#2a3f5f\",\"gridcolor\":\"white\",\"linecolor\":\"white\",\"minorgridcolor\":\"white\",\"startlinecolor\":\"#2a3f5f\"},\"baxis\":{\"endlinecolor\":\"#2a3f5f\",\"gridcolor\":\"white\",\"linecolor\":\"white\",\"minorgridcolor\":\"white\",\"startlinecolor\":\"#2a3f5f\"},\"type\":\"carpet\"}],\"table\":[{\"cells\":{\"fill\":{\"color\":\"#EBF0F8\"},\"line\":{\"color\":\"white\"}},\"header\":{\"fill\":{\"color\":\"#C8D4E3\"},\"line\":{\"color\":\"white\"}},\"type\":\"table\"}],\"barpolar\":[{\"marker\":{\"line\":{\"color\":\"#E5ECF6\",\"width\":0.5},\"pattern\":{\"fillmode\":\"overlay\",\"size\":10,\"solidity\":0.2}},\"type\":\"barpolar\"}],\"pie\":[{\"automargin\":true,\"type\":\"pie\"}]},\"layout\":{\"autotypenumbers\":\"strict\",\"colorway\":[\"#636efa\",\"#EF553B\",\"#00cc96\",\"#ab63fa\",\"#FFA15A\",\"#19d3f3\",\"#FF6692\",\"#B6E880\",\"#FF97FF\",\"#FECB52\"],\"font\":{\"color\":\"#2a3f5f\"},\"hovermode\":\"closest\",\"hoverlabel\":{\"align\":\"left\"},\"paper_bgcolor\":\"white\",\"plot_bgcolor\":\"#E5ECF6\",\"polar\":{\"bgcolor\":\"#E5ECF6\",\"angularaxis\":{\"gridcolor\":\"white\",\"linecolor\":\"white\",\"ticks\":\"\"},\"radialaxis\":{\"gridcolor\":\"white\",\"linecolor\":\"white\",\"ticks\":\"\"}},\"ternary\":{\"bgcolor\":\"#E5ECF6\",\"aaxis\":{\"gridcolor\":\"white\",\"linecolor\":\"white\",\"ticks\":\"\"},\"baxis\":{\"gridcolor\":\"white\",\"linecolor\":\"white\",\"ticks\":\"\"},\"caxis\":{\"gridcolor\":\"white\",\"linecolor\":\"white\",\"ticks\":\"\"}},\"coloraxis\":{\"colorbar\":{\"outlinewidth\":0,\"ticks\":\"\"}},\"colorscale\":{\"sequential\":[[0.0,\"#0d0887\"],[0.1111111111111111,\"#46039f\"],[0.2222222222222222,\"#7201a8\"],[0.3333333333333333,\"#9c179e\"],[0.4444444444444444,\"#bd3786\"],[0.5555555555555556,\"#d8576b\"],[0.6666666666666666,\"#ed7953\"],[0.7777777777777778,\"#fb9f3a\"],[0.8888888888888888,\"#fdca26\"],[1.0,\"#f0f921\"]],\"sequentialminus\":[[0.0,\"#0d0887\"],[0.1111111111111111,\"#46039f\"],[0.2222222222222222,\"#7201a8\"],[0.3333333333333333,\"#9c179e\"],[0.4444444444444444,\"#bd3786\"],[0.5555555555555556,\"#d8576b\"],[0.6666666666666666,\"#ed7953\"],[0.7777777777777778,\"#fb9f3a\"],[0.8888888888888888,\"#fdca26\"],[1.0,\"#f0f921\"]],\"diverging\":[[0,\"#8e0152\"],[0.1,\"#c51b7d\"],[0.2,\"#de77ae\"],[0.3,\"#f1b6da\"],[0.4,\"#fde0ef\"],[0.5,\"#f7f7f7\"],[0.6,\"#e6f5d0\"],[0.7,\"#b8e186\"],[0.8,\"#7fbc41\"],[0.9,\"#4d9221\"],[1,\"#276419\"]]},\"xaxis\":{\"gridcolor\":\"white\",\"linecolor\":\"white\",\"ticks\":\"\",\"title\":{\"standoff\":15},\"zerolinecolor\":\"white\",\"automargin\":true,\"zerolinewidth\":2},\"yaxis\":{\"gridcolor\":\"white\",\"linecolor\":\"white\",\"ticks\":\"\",\"title\":{\"standoff\":15},\"zerolinecolor\":\"white\",\"automargin\":true,\"zerolinewidth\":2},\"scene\":{\"xaxis\":{\"backgroundcolor\":\"#E5ECF6\",\"gridcolor\":\"white\",\"linecolor\":\"white\",\"showbackground\":true,\"ticks\":\"\",\"zerolinecolor\":\"white\",\"gridwidth\":2},\"yaxis\":{\"backgroundcolor\":\"#E5ECF6\",\"gridcolor\":\"white\",\"linecolor\":\"white\",\"showbackground\":true,\"ticks\":\"\",\"zerolinecolor\":\"white\",\"gridwidth\":2},\"zaxis\":{\"backgroundcolor\":\"#E5ECF6\",\"gridcolor\":\"white\",\"linecolor\":\"white\",\"showbackground\":true,\"ticks\":\"\",\"zerolinecolor\":\"white\",\"gridwidth\":2}},\"shapedefaults\":{\"line\":{\"color\":\"#2a3f5f\"}},\"annotationdefaults\":{\"arrowcolor\":\"#2a3f5f\",\"arrowhead\":0,\"arrowwidth\":1},\"geo\":{\"bgcolor\":\"white\",\"landcolor\":\"#E5ECF6\",\"subunitcolor\":\"white\",\"showland\":true,\"showlakes\":true,\"lakecolor\":\"white\"},\"title\":{\"x\":0.05},\"mapbox\":{\"style\":\"light\"}}},\"title\":{\"text\":\"Outcome\"}},                        {\"responsive\": true}                    ).then(function(){\n",
              "                            \n",
              "var gd = document.getElementById('1ecb28c1-17c5-448e-8b2f-8c473e7be41c');\n",
              "var x = new MutationObserver(function (mutations, observer) {{\n",
              "        var display = window.getComputedStyle(gd).display;\n",
              "        if (!display || display === 'none') {{\n",
              "            console.log([gd, 'removed!']);\n",
              "            Plotly.purge(gd);\n",
              "            observer.disconnect();\n",
              "        }}\n",
              "}});\n",
              "\n",
              "// Listen for the removal of the full notebook cells\n",
              "var notebookContainer = gd.closest('#notebook-container');\n",
              "if (notebookContainer) {{\n",
              "    x.observe(notebookContainer, {childList: true});\n",
              "}}\n",
              "\n",
              "// Listen for the clearing of the current output cell\n",
              "var outputEl = gd.closest('.output');\n",
              "if (outputEl) {{\n",
              "    x.observe(outputEl, {childList: true});\n",
              "}}\n",
              "\n",
              "                        })                };                            </script>        </div>\n",
              "</body>\n",
              "</html>"
            ]
          },
          "metadata": {}
        }
      ],
      "source": [
        "colors = ['darkgreen', 'lightgreen']\n",
        "labels = ['0','1']\n",
        "values = df['Outcome'].value_counts()/df['Outcome'].shape[0]\n",
        "fig = go.Figure(data=[go.Pie(labels=labels, values=values, hole=.3)])\n",
        "fig.update_traces(hoverinfo='label+percent', textinfo='percent', textfont_size=20,\n",
        "                  marker=dict(colors=colors, line=dict(color='#000000', width=2)))\n",
        "fig.update_layout(\n",
        "    title_text=\"Outcome\")\n",
        "fig.show()"
      ],
      "id": "xtXvIQEetqp3"
    },
    {
      "cell_type": "code",
      "execution_count": null,
      "metadata": {
        "colab": {
          "base_uri": "https://localhost:8080/",
          "height": 1000
        },
        "id": "K6OkeaP3t90A",
        "outputId": "c73c68c3-297f-4f48-a7b6-94b7528c24d2"
      },
      "outputs": [
        {
          "output_type": "display_data",
          "data": {
            "text/plain": [
              "<Figure size 4000x6000 with 1 Axes>"
            ],
            "image/png": "[encoded data removed]"
          },
          "metadata": {}
        }
      ],
      "source": [
        "labels = ['Outcome 0', 'Outcome 1']\n",
        "sizes = [len(df[df['Outcome'] == 0]), len(df[df['Outcome'] == 1])]\n",
        "colors = ['gold', 'lightcoral']\n",
        "fig, ax = plt.subplots()\n",
        "wedges, texts, autotexts = ax.pie(sizes, colors=colors, labels=labels, autopct=\"%1.1f%%\", startangle=-40, wedgeprops=dict(width=0.3))\n",
        "ax.text(0, 0, \"Class Imbalance\", fontsize=15, ha='center', va='center')\n",
        "plt.title(\"Class Imbalance in the Dataset\", fontsize=20)\n",
        "plt.show()"
      ],
      "id": "K6OkeaP3t90A"
    },
    {
      "cell_type": "markdown",
      "metadata": {
        "id": "_iLZzcu63V98"
      },
      "source": [
        "There is class imbalance, which we shall take care of using oversampling method"
      ],
      "id": "_iLZzcu63V98"
    },
    {
      "cell_type": "code",
      "execution_count": null,
      "metadata": {
        "id": "cIcbcn8M12oS"
      },
      "outputs": [],
      "source": [
        "df_majority = df[df['Outcome'] == 0]\n",
        "df_minority = df[df['Outcome'] == 1]\n",
        "df_minority_oversampled = resample(df_minority,\n",
        "                                 replace=True,     # Sample with replacement\n",
        "                                 n_samples=len(df_majority),  # Match number of samples in majority class\n",
        "                                 random_state=42)  # Reproducible results\n",
        "df_oversampled = pd.concat([df_majority, df_minority_oversampled])\n",
        "X_oversampled = df_oversampled.drop('Outcome', axis=1)\n",
        "y_oversampled = df_oversampled['Outcome']\n",
        "scaler = StandardScaler()\n",
        "X_scaled = scaler.fit_transform(X_oversampled)\n",
        "X_train, X_test, y_train, y_test = train_test_split(X_scaled, y_oversampled, test_size=0.2, random_state=42)"
      ],
      "id": "cIcbcn8M12oS"
    },
    {
      "cell_type": "markdown",
      "metadata": {
        "id": "ff54b09d"
      },
      "source": [
        "Machine Learning models"
      ],
      "id": "ff54b09d"
    },
    {
      "cell_type": "markdown",
      "metadata": {
        "id": "efc5b753"
      },
      "source": [
        "Logistic Regression"
      ],
      "id": "efc5b753"
    },
    {
      "cell_type": "code",
      "execution_count": null,
      "metadata": {
        "id": "bbce16da"
      },
      "outputs": [],
      "source": [
        "from sklearn.linear_model import LogisticRegression\n",
        "logmodel = LogisticRegression()\n",
        "logmodel.fit(X_train,y_train)\n",
        "predictions_log = logmodel.predict(X_test)\n",
        "print('training accuracy for Logistic Regression = '+str(accuracy_score(y_train,logmodel.predict(X_train))))\n",
        "print('testing accuracy for Logistic Regression = '+str(accuracy_score(y_test,predictions_log)))\n",
        "log_reg_train_accuracy_before_tuning = accuracy_score(y_train,logmodel.predict(X_train))\n",
        "log_reg_test_accuracy_before_tuning = accuracy_score(y_test,predictions_log)"
      ],
      "id": "bbce16da"
    },
    {
      "cell_type": "code",
      "execution_count": null,
      "metadata": {
        "id": "qkP8N9oU-7Sr"
      },
      "outputs": [],
      "source": [
        "print(logmodel.get_params())"
      ],
      "id": "qkP8N9oU-7Sr"
    },
    {
      "cell_type": "code",
      "execution_count": null,
      "metadata": {
        "id": "a6DoGyC1_RkU"
      },
      "outputs": [],
      "source": [
        "kf = KFold(n_splits=5, shuffle=True, random_state=42)"
      ],
      "id": "a6DoGyC1_RkU"
    },
    {
      "cell_type": "markdown",
      "metadata": {
        "id": "MPlZb9EhRF6T"
      },
      "source": [
        "## Hyper parameter tuning for logistic regression model"
      ],
      "id": "MPlZb9EhRF6T"
    },
    {
      "cell_type": "code",
      "execution_count": null,
      "metadata": {
        "id": "o8g4C-rEQ3YW"
      },
      "outputs": [],
      "source": [
        "from sklearn.model_selection import GridSearchCV,KFold\n",
        "param_grid_log = {\n",
        "    'penalty': ['l1', 'l2', 'elasticnet', 'none'],\n",
        "    'C': [0.001, 0.01, 0.1, 1, 10, 100],\n",
        "    'solver': ['newton-cg', 'lbfgs', 'liblinear', 'sag', 'saga'],\n",
        "    'max_iter': [100, 200, 300]\n",
        "}\n",
        "grid_search_log = GridSearchCV(logmodel, param_grid_log, cv=KFold(n_splits=5, shuffle=True, random_state=42))\n",
        "grid_search_log.fit(X_train, y_train)\n",
        "best_params_log = grid_search_log.best_params_\n",
        "print(\"Best hyperparameters:\", best_params_log)\n",
        "best_model_log = LogisticRegression(**best_params_log)\n",
        "best_model_log.fit(X_train, y_train)\n",
        "y_pred = best_model_log.predict(X_test)\n",
        "accuracy = accuracy_score(y_test, y_pred)\n",
        "print(\"Test accuracy for Logistic Tuned:\", accuracy)"
      ],
      "id": "o8g4C-rEQ3YW"
    },
    {
      "cell_type": "code",
      "execution_count": null,
      "metadata": {
        "id": "sVJbaFYVAfJ0"
      },
      "outputs": [],
      "source": [
        "predictions_log_tuned_test = best_model_log.predict(X_test)\n",
        "accuracy_log_tuned_test = accuracy_score(y_test, predictions_log_tuned_test)\n",
        "accuracy_log_tuned_train = accuracy_score(y_train, best_model_log.predict(X_train))\n",
        "print(\"Training accuracy for Logistic Tuned:\", accuracy_log_tuned_train)\n",
        "print(\"Test accuracy for Logistic Tuned:\", accuracy_log_tuned_test)"
      ],
      "id": "sVJbaFYVAfJ0"
    },
    {
      "cell_type": "code",
      "execution_count": null,
      "metadata": {
        "id": "JY2CzaPdn37G"
      },
      "outputs": [],
      "source": [
        "log_reg_test_recall_after_tuning = recall_score(y_test, predictions_log_tuned_test)\n",
        "log_reg_test_precision_after_tuning = precision_score(y_test, predictions_log_tuned_test)\n",
        "log_reg_test_f1_after_tuning = f1_score(y_test, predictions_log_tuned_test)\n",
        "log_reg_test_cm_after_tuning = confusion_matrix(y_test, predictions_log_tuned_test)\n",
        "log_reg_test_auc_roc_after_tuning = roc_auc_score(y_test, predictions_log_tuned_test)\n",
        "log_reg_test_accuracy_after_tuning = accuracy_score(y_test, predictions_log_tuned_test)\n",
        "print(\"Recall for Log Reg After Tuning:\", log_reg_test_recall_after_tuning)\n",
        "print(\"Precision for Log Reg After Tuning:\", log_reg_test_precision_after_tuning)\n",
        "print(\"F1-score for Log Reg After Tuning:\", log_reg_test_f1_after_tuning)"
      ],
      "id": "JY2CzaPdn37G"
    },
    {
      "cell_type": "markdown",
      "metadata": {
        "id": "0895b3cc"
      },
      "source": [
        "Random Forest"
      ],
      "id": "0895b3cc"
    },
    {
      "cell_type": "code",
      "execution_count": null,
      "metadata": {
        "id": "ee66e99a"
      },
      "outputs": [],
      "source": [
        "rfc = RandomForestClassifier(n_estimators=100)\n",
        "rfc.fit(X_train, y_train)\n",
        "predictions_rf = rfc.predict(X_test)\n",
        "print('training accuracy for Random Forest= '+str(accuracy_score(y_train,rfc.predict(X_train))))\n",
        "print('testing accuracy for Random Forest= '+str(accuracy_score(y_test,predictions_rf)))"
      ],
      "id": "ee66e99a"
    },
    {
      "cell_type": "code",
      "execution_count": null,
      "metadata": {
        "id": "LlRGy0aOB_ML"
      },
      "outputs": [],
      "source": [
        "print(rfc.get_params())"
      ],
      "id": "LlRGy0aOB_ML"
    },
    {
      "cell_type": "markdown",
      "metadata": {
        "id": "0d2eb5aa"
      },
      "source": [
        "Hyperparameter Tuning of Random Forest"
      ],
      "id": "0d2eb5aa"
    },
    {
      "cell_type": "code",
      "execution_count": null,
      "metadata": {
        "id": "22c8a7e4"
      },
      "outputs": [],
      "source": [
        "from sklearn.model_selection import GridSearchCV,KFold\n",
        "kf = KFold(n_splits=5, shuffle=True, random_state=42)\n",
        "param_grid = {\n",
        "    'n_estimators': [50, 100, 200, 500],\n",
        "    'max_depth': [4, 5, 6, 7, 8],\n",
        "    'min_samples_split': [5, 10, 15, 100],\n",
        "    'min_samples_leaf' : [1, 2, 5, 10]\n",
        "}\n",
        "grid_rf = GridSearchCV(RandomForestClassifier(),param_grid,refit=True,verbose=3,cv = kf)\n",
        "grid_rf.fit(X_train,y_train)\n",
        "grid_rf.best_params_\n",
        "rf_grid_predictions = grid_rf.predict(X_test)\n",
        "print('training accuracy for tuned Random Forest= '+str(accuracy_score(y_train,grid_rf.predict(X_train))))\n",
        "print('testing accuracy for tuned Random Forest= '+str(accuracy_score(y_test,rf_grid_predictions)))\n",
        "grid_rf_test_acc = accuracy_score(y_test,rf_grid_predictions)"
      ],
      "id": "22c8a7e4"
    },
    {
      "cell_type": "code",
      "execution_count": null,
      "metadata": {
        "id": "I5wM5yr0puTV"
      },
      "outputs": [],
      "source": [
        "rf_grid_recall = recall_score(y_test, rf_grid_predictions)\n",
        "rf_grid_precision = precision_score(y_test, rf_grid_predictions)\n",
        "rf_grid_f1 = f1_score(y_test, rf_grid_predictions)\n",
        "rf_grid_cm = confusion_matrix(y_test, rf_grid_predictions)\n",
        "rf_grid_auc_roc = roc_auc_score(y_test, rf_grid_predictions)\n",
        "print(\"Recall for RF After Tuning:\", rf_grid_recall)\n",
        "print(\"Precision for RF After Tuning:\", rf_grid_precision)\n",
        "print(\"F1-score for RF After Tuning:\", rf_grid_f1)"
      ],
      "id": "I5wM5yr0puTV"
    },
    {
      "cell_type": "code",
      "execution_count": null,
      "metadata": {
        "id": "MhG7XcWUuQM3"
      },
      "outputs": [],
      "source": [
        "grid_rf_test_acc = accuracy_score(y_test,rf_grid_predictions)"
      ],
      "id": "MhG7XcWUuQM3"
    },
    {
      "cell_type": "code",
      "execution_count": null,
      "metadata": {
        "id": "knRPAjmoH13V"
      },
      "outputs": [],
      "source": [
        "grid_rf.get_params()"
      ],
      "id": "knRPAjmoH13V"
    },
    {
      "cell_type": "markdown",
      "metadata": {
        "id": "7ed4bd9f"
      },
      "source": [
        "Decision</b> Tree"
      ],
      "id": "7ed4bd9f"
    },
    {
      "cell_type": "code",
      "execution_count": null,
      "metadata": {
        "id": "7ae7539b"
      },
      "outputs": [],
      "source": [
        "from sklearn.tree import DecisionTreeClassifier\n",
        "dtree = DecisionTreeClassifier()\n",
        "dtree.fit(X_train,y_train)\n",
        "predictions_tree = dtree.predict(X_test)\n",
        "print('training accuracy = '+str(accuracy_score(y_train,dtree.predict(X_train))))\n",
        "print('testing accuracy = '+str(accuracy_score(y_test,predictions_tree)))"
      ],
      "id": "7ae7539b"
    },
    {
      "cell_type": "code",
      "execution_count": null,
      "metadata": {
        "id": "WaiGQh2sO_ss"
      },
      "outputs": [],
      "source": [
        "dtree.get_params()"
      ],
      "id": "WaiGQh2sO_ss"
    },
    {
      "cell_type": "markdown",
      "metadata": {
        "id": "d89dce92"
      },
      "source": [
        "Hyperparameter Tuning Of Decision Tree"
      ],
      "id": "d89dce92"
    },
    {
      "cell_type": "code",
      "execution_count": null,
      "metadata": {
        "id": "3e689c70"
      },
      "outputs": [],
      "source": [
        "param_grid = {'min_samples_split': range(2, 10),\n",
        "              'min_samples_leaf': range(1, 10),\n",
        "              'max_depth': range(2, 10)}\n",
        "grid_tree = GridSearchCV(DecisionTreeClassifier(),param_grid,refit=True,cv = kf)\n",
        "grid_tree.fit(X_train,y_train)\n",
        "grid_tree.best_params_\n",
        "tree_grid_predictions = grid_tree.predict(X_test)\n",
        "print('training accuracy for tuned tree= '+str(accuracy_score(y_train,grid_tree.predict(X_train))))\n",
        "print('testing accuracy for tuned tree= '+str(accuracy_score(y_test,tree_grid_predictions)))"
      ],
      "id": "3e689c70"
    },
    {
      "cell_type": "code",
      "execution_count": null,
      "metadata": {
        "id": "6mg_mI4oQlCQ"
      },
      "outputs": [],
      "source": [
        "print(grid_tree.get_params())"
      ],
      "id": "6mg_mI4oQlCQ"
    },
    {
      "cell_type": "code",
      "execution_count": null,
      "metadata": {
        "id": "R-C-zBeZOONh"
      },
      "outputs": [],
      "source": [
        "rf_tuned_test_accurcy = accuracy_score(y_test,rf_grid_predictions)"
      ],
      "id": "R-C-zBeZOONh"
    },
    {
      "cell_type": "code",
      "execution_count": null,
      "metadata": {
        "id": "peunUxhkqRRG"
      },
      "outputs": [],
      "source": [
        "tree_grid_recall = recall_score(y_test, tree_grid_predictions)\n",
        "tree_grid_precision = precision_score(y_test, tree_grid_predictions)\n",
        "tree_grid_f1 = f1_score(y_test, tree_grid_predictions)\n",
        "tree_grid_cm = confusion_matrix(y_test, tree_grid_predictions)\n",
        "tree_grid_auc_roc = roc_auc_score(y_test, tree_grid_predictions)\n",
        "print(\"Recall for Tree After Tuning:\", tree_grid_recall)\n",
        "print(\"Precision for Tree After Tuning:\", tree_grid_precision)\n",
        "print(\"F1-score for Tree After Tuning:\", tree_grid_f1)\n",
        "tree_grid_test_accuracy = accuracy_score(y_test, tree_grid_predictions)\n",
        "print(\"Accuracy for Tree After Tuning:\", tree_grid_test_accuracy)"
      ],
      "id": "peunUxhkqRRG"
    },
    {
      "cell_type": "code",
      "execution_count": null,
      "metadata": {
        "id": "58db0211"
      },
      "outputs": [],
      "source": [
        "from sklearn.neighbors import KNeighborsClassifier\n",
        "knn = KNeighborsClassifier(n_neighbors=5)\n",
        "knn.fit(X_train,y_train)\n",
        "predictions_knn = knn.predict(X_test)\n",
        "print('training accuracy = '+str(accuracy_score(y_train,knn.predict(X_train))))\n",
        "print('testing accuracy = '+str(accuracy_score(y_test,predictions_knn)))"
      ],
      "id": "58db0211"
    },
    {
      "cell_type": "code",
      "execution_count": null,
      "metadata": {
        "id": "zpwAOYRPUO6w"
      },
      "outputs": [],
      "source": [
        "print(knn.get_params())"
      ],
      "id": "zpwAOYRPUO6w"
    },
    {
      "cell_type": "markdown",
      "metadata": {
        "id": "FqQfnj_wvVjM"
      },
      "source": [
        "The model is clearly overfitting"
      ],
      "id": "FqQfnj_wvVjM"
    },
    {
      "cell_type": "code",
      "execution_count": null,
      "metadata": {
        "id": "0Fd0qPizSPr5"
      },
      "outputs": [],
      "source": [
        "from sklearn.model_selection import GridSearchCV\n",
        "import numpy as np\n",
        "param_grid_knn = {\n",
        "    'n_neighbors': np.arange(1,21),  # Number of neighbors to consider\n",
        "    'weights': ['uniform', 'distance'],  # Weighting function for prediction\n",
        "    'metric': ['euclidean', 'manhattan', 'chebyshev']  # Distance metric\n",
        "}\n",
        "grid_search_knn = GridSearchCV(knn, param_grid_knn, cv=kf)\n",
        "grid_search_knn.fit(X_train, y_train)\n",
        "best_params_knn = grid_search_knn.best_params_\n",
        "print(\"Best hyperparameters:\", best_params_knn)\n",
        "best_model_knn = KNeighborsClassifier(**best_params_knn)\n",
        "best_model_knn.fit(X_train, y_train)\n",
        "y_pred_knn = best_model_knn.predict(X_test)\n",
        "accuracy_knn = accuracy_score(y_test, y_pred_knn)\n",
        "print(\"Test accuracy for KNN Tuned:\", accuracy_knn)"
      ],
      "id": "0Fd0qPizSPr5"
    },
    {
      "cell_type": "markdown",
      "metadata": {
        "id": "2GxTa1_bSlJO"
      },
      "source": [
        "Training Accuracy of KNN after Tuning =\n",
        "Testing Accuracy of KNN after Tuning = 0.79"
      ],
      "id": "2GxTa1_bSlJO"
    },
    {
      "cell_type": "code",
      "execution_count": null,
      "metadata": {
        "id": "G1spqKDYSbj_"
      },
      "outputs": [],
      "source": [
        "print('training accuracy for KNN Tuned = '+str(accuracy_score(y_train,grid_search_knn.predict(X_train))))\n",
        "print('testing accuracy for KNN Tuned = '+str(accuracy_score(y_test,y_pred_knn)))"
      ],
      "id": "G1spqKDYSbj_"
    },
    {
      "cell_type": "code",
      "execution_count": null,
      "metadata": {
        "id": "ruXZgRhFq6Es"
      },
      "outputs": [],
      "source": [
        "knn_grid_recall = recall_score(y_test, y_pred_knn)\n",
        "knn_grid_precision = precision_score(y_test, y_pred_knn)\n",
        "knn_grid_f1 = f1_score(y_test, y_pred_knn)\n",
        "knn_grid_cm = confusion_matrix(y_test, y_pred_knn)\n",
        "knn_grid_acc = accuracy_score(y_test,y_pred_knn)\n",
        "knn_grid_auc_roc = roc_auc_score(y_test, y_pred_knn)\n",
        "print(\"Recall for KNN After Tuning:\", knn_grid_recall)\n",
        "print(\"Precision for KNN After Tuning:\", knn_grid_precision)\n",
        "print(\"F1-score for KNN After Tuning:\", knn_grid_f1)\n",
        "print(\"Confusion matrix for KNN After Tuning:\\n\", knn_grid_cm)\n",
        "print(\"AUC-ROC score for KNN After Tuning:\", knn_grid_auc_roc)\n",
        "print(\"Accuracy score for KNN After Tuning:\",knn_grid_acc)"
      ],
      "id": "ruXZgRhFq6Es"
    },
    {
      "cell_type": "markdown",
      "metadata": {
        "id": "XdfFkRfkvZY-"
      },
      "source": [
        "The model performance has increased a lot compared to before , and the overfitting is also reduced."
      ],
      "id": "XdfFkRfkvZY-"
    },
    {
      "cell_type": "markdown",
      "metadata": {
        "id": "e3ff8e20"
      },
      "source": [
        "Support Vector </b> Classifier"
      ],
      "id": "e3ff8e20"
    },
    {
      "cell_type": "code",
      "execution_count": null,
      "metadata": {
        "id": "02a4475b"
      },
      "outputs": [],
      "source": [
        "from sklearn.svm import SVC\n",
        "svm_model = SVC()\n",
        "svm_model.fit(X_train, y_train)\n",
        "predictions_svm= svm_model.predict(X_test)\n",
        "print('training accuracy = '+str(accuracy_score(y_train,svm_model.predict(X_train))))\n",
        "print('testing accuracy = '+str(accuracy_score(y_test,predictions_svm)))"
      ],
      "id": "02a4475b"
    },
    {
      "cell_type": "code",
      "execution_count": null,
      "metadata": {
        "id": "NrkQDOTsTJY4"
      },
      "outputs": [],
      "source": [
        "svm_model.get_params()"
      ],
      "id": "NrkQDOTsTJY4"
    },
    {
      "cell_type": "markdown",
      "metadata": {
        "id": "Q-DmL5ZiB3Q9"
      },
      "source": [
        "Hyper parameter tuning for SVM\n"
      ],
      "id": "Q-DmL5ZiB3Q9"
    },
    {
      "cell_type": "code",
      "execution_count": null,
      "metadata": {
        "id": "ercN9BvBB6eG"
      },
      "outputs": [],
      "source": [
        "param_grid_svm = {\n",
        "    'C': np.arange(0.1, 5.1, 0.1),\n",
        "    'gamma': [0.1, 0.01, 0.001],\n",
        "    'kernel': ['rbf', 'linear', 'poly']\n",
        "}\n",
        "grid_svm = GridSearchCV(SVC(), param_grid_svm, refit=True, cv=kf)\n",
        "grid_svm.fit(X_train, y_train)\n",
        "print(\"Best parameters:\", grid_svm.best_params_)\n",
        "best_model = grid_svm.best_estimator_\n",
        "accuracy = best_model.score(X_test, y_test)\n",
        "print(\"Accuracy:\", accuracy)"
      ],
      "id": "ercN9BvBB6eG"
    },
    {
      "cell_type": "code",
      "execution_count": null,
      "metadata": {
        "id": "YlvE3Wu3UrKZ"
      },
      "outputs": [],
      "source": [
        "grid_svm.best_params_\n",
        "predictions_svm_grid = grid_svm.predict(X_test)\n",
        "print('training accuracy for SVM tuned = '+str(accuracy_score(y_train,grid_svm.predict(X_train))))\n",
        "print('testing accuracy for SVM Tuned = '+str(accuracy_score(y_test,predictions_svm_grid)))"
      ],
      "id": "YlvE3Wu3UrKZ"
    },
    {
      "cell_type": "markdown",
      "metadata": {
        "id": "hxEw5iRnR5rZ"
      },
      "source": [
        "Training Accuracy of SVM after tuning = 0.8325\n",
        "Testing Accuracy of SVM after tuning = 0.79\n"
      ],
      "id": "hxEw5iRnR5rZ"
    },
    {
      "cell_type": "code",
      "execution_count": null,
      "metadata": {
        "id": "AUyLKiBlSGl4"
      },
      "outputs": [],
      "source": [
        "grid_svm.best_params_"
      ],
      "id": "AUyLKiBlSGl4"
    },
    {
      "cell_type": "markdown",
      "metadata": {
        "id": "PZACS79R41Gg"
      },
      "source": [
        "The performance has increased a lot."
      ],
      "id": "PZACS79R41Gg"
    },
    {
      "cell_type": "code",
      "execution_count": null,
      "metadata": {
        "id": "Dv24sSr8-8LU"
      },
      "outputs": [],
      "source": [
        "grid_svm_recall = recall_score(y_test, predictions_svm_grid)\n",
        "grid_svm_precision = precision_score(y_test, predictions_svm_grid)\n",
        "grid_svm_f1 = f1_score(y_test, predictions_svm_grid)\n",
        "grid_svm_cm = confusion_matrix(y_test, predictions_svm_grid)\n",
        "grid_svm_auc_roc = roc_auc_score(y_test, predictions_svm_grid)\n",
        "print(\"Recall for SVM After Tuning:\", grid_svm_recall)\n",
        "print(\"Precision for SVM After Tuning:\", grid_svm_precision)\n",
        "print(\"F1-score for SVM After Tuning:\", grid_svm_f1)\n",
        "print(\"Confusion matrix for SVM After Tuning:\\n\", grid_svm_cm)\n",
        "print(\"AUC-ROC score for SVM After Tuning:\", grid_svm_auc_roc)\n",
        "grid_svm_accuracy = accuracy_score(y_test, predictions_svm_grid)\n",
        "print(\"Accuracy for SVM After Tuning:\", grid_svm_accuracy)"
      ],
      "id": "Dv24sSr8-8LU"
    },
    {
      "cell_type": "markdown",
      "metadata": {
        "id": "hnickGnOVQbi"
      },
      "source": [
        "Deep Learning models</div>"
      ],
      "id": "hnickGnOVQbi"
    },
    {
      "cell_type": "markdown",
      "metadata": {
        "id": "Nz_KjwNGV2gA"
      },
      "source": [
        "Artificial Neural Network ( ANN )"
      ],
      "id": "Nz_KjwNGV2gA"
    },
    {
      "cell_type": "code",
      "execution_count": null,
      "metadata": {
        "id": "4wsTl72BVRoa"
      },
      "outputs": [],
      "source": [
        "import tensorflow as tf\n",
        "from tensorflow.keras import Sequential\n",
        "from tensorflow.keras.layers import Dense, Dropout\n",
        "dl_model = Sequential()\n",
        "dl_model.add(Dense(256,  activation = 'relu' ,input_shape=([8]))) #input layer\n",
        "dl_model.add(Dense(256,  activation = 'relu'))\n",
        "dl_model.add(Dense(1,activation = 'sigmoid'))\n",
        "dl_model.summary()\n",
        "dl_model.compile(optimizer = 'adam' , loss = 'binary_crossentropy' ,metrics = ['accuracy','AUC'])"
      ],
      "id": "4wsTl72BVRoa"
    },
    {
      "cell_type": "code",
      "execution_count": null,
      "metadata": {
        "id": "AELRxyOUVV3R"
      },
      "outputs": [],
      "source": [
        "num_epochs = 50\n",
        "history = dl_model.fit(X_train ,\n",
        "                       y_train ,\n",
        "                    epochs= num_epochs ,\n",
        "                    validation_split=0.2)\n",
        "\n",
        "dl_model.evaluate(X_test, y_test)\n",
        "predictions_ann = np.where(dl_model.predict(X_test)>=0.5, 1, 0).reshape(y_test.shape[0])\n",
        "print('testing accuracy for ANN = '+str(accuracy_score(y_test,predictions_ann)))\n",
        "accuracy_ann = accuracy_score(y_test,predictions_ann)\n",
        "print(\"Training Accuracy of ANN Tuned:\", accuracy_score(y_train,(dl_model.predict(X_train)>0.5).astype(int)))\n",
        "print(\"Accuracy of ANN Tuned:\", accuracy_ann)"
      ],
      "id": "AELRxyOUVV3R"
    },
    {
      "cell_type": "markdown",
      "metadata": {
        "id": "w3GAIfYeVtnV"
      },
      "source": [
        "Training accuracy before tuning : 0.95875\n",
        "Testing accuracy before tuning : 0.815\n"
      ],
      "id": "w3GAIfYeVtnV"
    },
    {
      "cell_type": "code",
      "source": [
        "import matplotlib.pyplot as plt\n",
        "plt.figure(figsize=(8, 6))  # Adjust width and height as needed\n",
        "plt.plot(history.history['accuracy'], label='Training Accuracy')\n",
        "plt.plot(history.history['val_accuracy'], label='Validation Accuracy')\n",
        "plt.xlabel('Epoch', fontsize=14)\n",
        "plt.ylabel('Accuracy', fontsize=14)\n",
        "plt.title('Training and Validation Accuracy Before Tuning', fontsize=16)\n",
        "plt.xticks(fontsize=12)\n",
        "plt.yticks(fontsize=12)\n",
        "plt.legend(fontsize=12)\n",
        "plt.show()"
      ],
      "metadata": {
        "id": "SJpyJmQx9M3o"
      },
      "id": "SJpyJmQx9M3o",
      "execution_count": null,
      "outputs": []
    },
    {
      "cell_type": "code",
      "execution_count": null,
      "metadata": {
        "id": "MxKzx5JNVjwp"
      },
      "outputs": [],
      "source": [
        "params = dl_model.get_config()\n",
        "params"
      ],
      "id": "MxKzx5JNVjwp"
    },
    {
      "cell_type": "markdown",
      "metadata": {
        "id": "pEBr3YEL010A"
      },
      "source": [
        "The accuracy is quite high, let us see if  we can increase it after we perform hyper parameter tuning."
      ],
      "id": "pEBr3YEL010A"
    },
    {
      "cell_type": "code",
      "execution_count": null,
      "metadata": {
        "id": "LXF_KG5ywgUV"
      },
      "outputs": [],
      "source": [
        "from tensorflow.keras.callbacks import EarlyStopping\n",
        "model_ann_tune = Sequential()\n",
        "model_ann_tune.add(Dense(256, activation='relu', input_shape=(X_train.shape[1],)))\n",
        "model_ann_tune.add(Dense(128, activation='relu'))\n",
        "model_ann_tune.add(Dense(1, activation='sigmoid'))\n",
        "model_ann_tune.compile(optimizer='adam', loss='binary_crossentropy', metrics=['accuracy'])\n",
        "early_stopping = EarlyStopping(monitor='val_loss', patience=5, restore_best_weights=True)\n",
        "history_ann_tune = model_ann_tune.fit(X_train, y_train, epochs=50, batch_size=64, verbose=1, validation_split=0.2, callbacks=[early_stopping])"
      ],
      "id": "LXF_KG5ywgUV"
    },
    {
      "cell_type": "code",
      "execution_count": null,
      "metadata": {
        "id": "OSW3Gf5g0_dQ"
      },
      "outputs": [],
      "source": [
        "predictions_ann_tuned = np.where(model_ann_tune.predict(X_test)>=0.5, 1, 0).reshape(y_test.shape[0])\n",
        "accuracy_ann_tuned = accuracy_score(y_test,predictions_ann_tuned)\n",
        "print(\"Training Accuracy of ANN Tuned:\", accuracy_score(y_train,(model_ann_tune.predict(X_train)>0.5).astype(int)))\n",
        "print(\"Accuracy of ANN Tuned:\", accuracy_ann_tuned)"
      ],
      "id": "OSW3Gf5g0_dQ"
    },
    {
      "cell_type": "code",
      "execution_count": null,
      "metadata": {
        "id": "8KvqLOmxXihr"
      },
      "outputs": [],
      "source": [
        "model_ann_tune.get_config()"
      ],
      "id": "8KvqLOmxXihr"
    },
    {
      "cell_type": "markdown",
      "metadata": {
        "id": "uinfty9e0tWO"
      },
      "source": [
        "Training accuracy ater tuning : 0.8325\n",
        "Testing accuracy ater tuning : 0.795\n"
      ],
      "id": "uinfty9e0tWO"
    },
    {
      "cell_type": "code",
      "execution_count": null,
      "metadata": {
        "id": "bXznBQBvssJ-"
      },
      "outputs": [],
      "source": [
        "ann_tuned_recall = recall_score(y_test, predictions_ann_tuned)\n",
        "ann_tuned_precision = precision_score(y_test, predictions_ann_tuned)\n",
        "ann_tuned_f1 = f1_score(y_test, predictions_ann_tuned)\n",
        "ann_tuned_cm = confusion_matrix(y_test, predictions_ann_tuned)\n",
        "ann_tuned_auc_roc = roc_auc_score(y_test, predictions_ann_tuned)\n",
        "print(\"Recall for ANN After Tuning:\", ann_tuned_recall)\n",
        "print(\"Precision for ANN After Tuning:\", ann_tuned_precision)\n",
        "print(\"F1-score for ANN After Tuning:\", ann_tuned_f1)\n",
        "print(\"Confusion matrix for ANN After Tuning:\\n\", ann_tuned_cm)\n",
        "print(\"AUC-ROC score for ANN After Tuning:\", ann_tuned_auc_roc)\n",
        "ann_tuned_accuracy = accuracy_score(y_test, predictions_ann_tuned)\n",
        "print(\"Accuracy for ANN After Tuning:\", ann_tuned_accuracy)"
      ],
      "id": "bXznBQBvssJ-"
    },
    {
      "cell_type": "code",
      "source": [
        "plt.figure(figsize=(8, 6))  # Adjust width and height as needed\n",
        "plt.plot(history_ann_tune.history['accuracy'], label='Training Accuracy')\n",
        "plt.plot(history_ann_tune.history['val_accuracy'], label='Validation Accuracy')\n",
        "plt.xlabel('Epoch', fontsize=14)\n",
        "plt.ylabel('Accuracy', fontsize=14)\n",
        "plt.title('Training and Validation Accuracy After Tuning', fontsize=16)\n",
        "plt.xticks(fontsize=12)\n",
        "plt.yticks(fontsize=12)\n",
        "plt.legend(fontsize=12)\n",
        "plt.show()"
      ],
      "metadata": {
        "id": "rIPMVqtrJexz"
      },
      "id": "rIPMVqtrJexz",
      "execution_count": null,
      "outputs": []
    },
    {
      "cell_type": "code",
      "execution_count": null,
      "metadata": {
        "id": "npOJXQ_8w0Ar"
      },
      "outputs": [],
      "source": [
        "import pandas as pd\n",
        "testing_accuracies = {\n",
        "    'Logistic Regression': accuracy_log_tuned_test,\n",
        "    'Decision Tree': tree_grid_test_accuracy,\n",
        "    'Random Forest': grid_rf_test_acc,\n",
        "    'KNN': knn_grid_acc,\n",
        "    'SVM': grid_svm_accuracy,\n",
        "    'ANN': ann_tuned_accuracy\n",
        "}\n",
        "df_testing_accuracies = pd.DataFrame.from_dict(testing_accuracies, orient='index', columns=['Testing Accuracy']).sort_values(by='Testing Accuracy', ascending=False)\n",
        "styled_df_testing_accuracies = (\n",
        "    df_testing_accuracies.head(5)\n",
        "    .style\n",
        "    .set_properties(**{\"background-color\": 'white', \"color\": 'black', \"border\": \"1.5px solid black\", 'text-align': 'center'})  # Set background color, text color, and border for the entire DataFrame\n",
        "    #.set_table_styles([  # Modify the color and background color of the table headers (th)\n",
        "    #    {\"selector\": \"th\", \"props\": [(\"color\", 'white'), (\"background-color\", \"#333333\")]}\n",
        "    #])\n",
        ")\n",
        "styled_df_testing_accuracies"
      ],
      "id": "npOJXQ_8w0Ar"
    }
  ],
  "metadata": {
    "colab": {
      "provenance": []
    },
    "kaggle": {
      "accelerator": "gpu",
      "dataSources": [
        {
          "datasetId": 228,
          "sourceId": 482,
          "sourceType": "datasetVersion"
        },
        {
          "datasetId": 1703281,
          "sourceId": 2789260,
          "sourceType": "datasetVersion"
        },
        {
          "datasetId": 2619659,
          "sourceId": 4476380,
          "sourceType": "datasetVersion"
        },
        {
          "datasetId": 3102947,
          "sourceId": 5344155,
          "sourceType": "datasetVersion"
        },
        {
          "datasetId": 3831944,
          "sourceId": 6637689,
          "sourceType": "datasetVersion"
        }
      ],
      "dockerImageVersionId": 30527,
      "isGpuEnabled": true,
      "isInternetEnabled": true,
      "language": "python",
      "sourceType": "notebook"
    },
    "kernelspec": {
      "display_name": "Python 3 (ipykernel)",
      "language": "python",
      "name": "python3"
    },
    "language_info": {
      "codemirror_mode": {
        "name": "ipython",
        "version": 3
      },
      "file_extension": ".py",
      "mimetype": "text/x-python",
      "name": "python",
      "nbconvert_exporter": "python",
      "pygments_lexer": "ipython3",
      "version": "3.11.5"
    },
    "papermill": {
      "default_parameters": {},
      "duration": 99.009406,
      "end_time": "2024-03-04T13:51:07.897240",
      "environment_variables": {},
      "exception": null,
      "input_path": "__notebook__.ipynb",
      "output_path": "__notebook__.ipynb",
      "parameters": {},
      "start_time": "2024-03-04T13:49:28.887834",
      "version": "2.4.0"
    }
  },
  "nbformat": 4,
  "nbformat_minor": 5
}